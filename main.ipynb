{
 "cells": [
  {
   "cell_type": "markdown",
   "metadata": {},
   "source": [
    "# Calculus Calculator\n",
    "### Made by ThinkerDesigns [GitHub](https://github.com/ThinkerDesigns/calculusCalculator/tree/main)\n",
    "This calculator provides options to compute derivatives and integrals using the SymPy library."
   ]
  },
  {
   "cell_type": "code",
   "metadata": {},
   "outputs": [],
   "source": [
    "from sympy import symbols, diff, integrate, simplify, trigsimp, pprint\n",
    "from sympy.parsing.sympy_parser import parse_expr, standard_transformations, implicit_multiplication_application"
   ]
  },
  {
   "cell_type": "markdown",
   "metadata": {},
   "source": [
    "### Main Function\n",
    "The `main()` function prompts the user to choose an operation (Derivative or Integral) and to input a mathematical expression."
   ]
  },
  {
   "cell_type": "code",
   "metadata": {},
   "outputs": [],
   "source": [
    "def main():\n",
    "    print(\"Choose an operation: \")\n",
    "    print(\"1. Derivative\")\n",
    "    print(\"2. Integral\")\n",
    "    \n",
    "    choice = input(\"Enter 1 or 2: \")\n",
    "    \n",
    "    var = input(\"Enter the variable (e.g., 'x'): \")\n",
    "    x = symbols(var)\n",
    "    \n",
    "    expr_str = input(f\"Enter the expression to calculate its {('derivative' if choice == '1' else 'integral')}: \")\n",
    "    \n",
    "    expr_str = expr_str.replace('^', '**')\n",
    "    \n",
    "    transformations = (standard_transformations + (implicit_multiplication_application,))\n",
    "    expr = parse_expr(expr_str, transformations=transformations)\n",
    "    \n",
    "    print(\"\\nOriginal expression (formatted):\")\n",
    "    pprint(expr)\n",
    "    \n",
    "    if choice == '1':\n",
    "        calculate_derivative(expr, x)\n",
    "    elif choice == '2':\n",
    "        lower_bound = input(\"Enter the lower bound (leave blank for indefinite): \")\n",
    "        upper_bound = input(\"Enter the upper bound (leave blank for indefinite): \")\n",
    "        \n",
    "        if lower_bound and upper_bound:  # If bounds are provided, use definite integral\n",
    "            lower_bound = parse_expr(lower_bound)\n",
    "            upper_bound = parse_expr(upper_bound)\n",
    "            calculate_integral(expr, x, lower_bound, upper_bound)\n",
    "        else:\n",
    "            calculate_integral(expr, x)\n",
    "    else:\n",
    "        print(\"Invalid choice. Please restart the program.\")"
   ]
  },
  {
   "cell_type": "markdown",
   "metadata": {},
   "source": [
    "### Derivative Function\n",
    "The `calculate_derivative()` function calculates and displays the derivative of the expression, along with simplified steps."
   ]
  },
  {
   "cell_type": "code",
   "metadata": {},
   "outputs": [],
   "source": [
    "def calculate_derivative(expr, var):\n",
    "    print(\"\\nCalculating derivative...\")\n",
    "\n",
    "    simplified_expr = simplify(expr)\n",
    "    print(\"\\nStep 1: Simplify the expression:\")\n",
    "    pprint(simplified_expr)\n",
    "\n",
    "    derivative = diff(simplified_expr, var)\n",
    "    print(\"\\nStep 2: Take the derivative:\")\n",
    "    pprint(derivative)\n",
    "    \n",
    "    print(\"\\nFinal Result:\")\n",
    "    pprint(derivative)"
   ]
  },
  {
   "cell_type": "markdown",
   "metadata": {},
   "source": [
    "### Integral Function\n",
    "The `calculate_integral()` function calculates and displays the integral of the expression, handling both definite and indefinite integrals with optional simplification."
   ]
  },
  {
   "cell_type": "code",
   "metadata": {},
   "outputs": [],
   "source": [
    "def calculate_integral(expr, var, lower_bound=None, upper_bound=None):\n",
    "    print(\"\\nCalculating integral...\")\n",
    "    \n",
    "    simplified_expr = simplify(expr)\n",
    "    print(\"\\nStep 1: Simplify the expression:\")\n",
    "    pprint(simplified_expr)\n",
    "    \n",
    "    if \"tan\" in str(simplified_expr) and \"sec\" in str(simplified_expr):\n",
    "        print(\"\\nStep 2: Recognize possible substitution pattern (e.g., tan(x) and sec(x)).\")\n",
    "        print(\"Since d(tan(x)) = sec^2(x) dx, we recognize this as a form of u-substitution.\")\n",
    "        print(\"Setting u = tan(x), we find du = sec^2(x) dx.\")\n",
    "    \n",
    "    \n",
    "    if lower_bound is not None and upper_bound is not None:\n",
    "        \n",
    "        integral = integrate(simplified_expr, (var, lower_bound, upper_bound))\n",
    "        print(f\"\\nStep 3: Integrate the expression from {lower_bound} to {upper_bound}:\")\n",
    "    else:\n",
    "        \n",
    "        integral = integrate(simplified_expr, var)\n",
    "        print(\"\\nStep 3: Integrate the expression (indefinite):\")\n",
    "    pprint(integral)\n",
    "    \n",
    "    print(\"\\nStep 4: Simplify the integral result (if possible):\")\n",
    "    simplified_integral = trigsimp(integral)\n",
    "    pprint(simplified_integral)\n",
    "    \n",
    "    print(\"\\nFinal Result:\")\n",
    "    pprint(simplified_integral)"
   ]
  },
  {
   "cell_type": "markdown",
   "metadata": {},
   "source": [
    "### Run the Calculator\n",
    "Run the `main()` function to start the calculator."
   ]
  },
  {
   "cell_type": "code",
   "metadata": {},
   "outputs": [],
   "source": [
    "main()"
   ]
  }
 ],
 "metadata": {
  "kernelspec": {
   "display_name": "Python 3",
   "language": "python",
   "name": "python3"
  },
  "language_info": {
   "codemirror_mode": {
    "name": "ipython",
    "version": 3
   },
   "file_extension": ".py",
   "mimetype": "text/x-python",
   "name": "python",
   "nbconvert_exporter": "python",
   "pygments_lexer": "ipython3",
   "version": "3.8"
  }
 },
 "nbformat": 4,
 "nbformat_minor": 5
}
