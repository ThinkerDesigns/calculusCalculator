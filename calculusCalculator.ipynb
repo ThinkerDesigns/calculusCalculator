{
 "cells": [
  {
   "cell_type": "markdown",
   "metadata": {},
   "source": [
    "Made by ThinkerDesigns https://github.com/ThinkerDesigns/calculusCalculator/tree/main"
   ]
  },
  {
   "cell_type": "code",
   "execution_count": 1,
   "metadata": {},
   "outputs": [
    {
     "name": "stdout",
     "output_type": "stream",
     "text": [
      "Requirement already satisfied: sympy in /Library/Frameworks/Python.framework/Versions/3.11/lib/python3.11/site-packages (1.12)\n",
      "Requirement already satisfied: mpmath>=0.19 in /Library/Frameworks/Python.framework/Versions/3.11/lib/python3.11/site-packages (from sympy) (1.3.0)\n",
      "\n",
      "\u001b[1m[\u001b[0m\u001b[34;49mnotice\u001b[0m\u001b[1;39;49m]\u001b[0m\u001b[39;49m A new release of pip is available: \u001b[0m\u001b[31;49m24.0\u001b[0m\u001b[39;49m -> \u001b[0m\u001b[32;49m24.3.1\u001b[0m\n",
      "\u001b[1m[\u001b[0m\u001b[34;49mnotice\u001b[0m\u001b[1;39;49m]\u001b[0m\u001b[39;49m To update, run: \u001b[0m\u001b[32;49mpip install --upgrade pip\u001b[0m\n",
      "Note: you may need to restart the kernel to use updated packages.\n"
     ]
    }
   ],
   "source": [
    "%pip install sympy\n",
    "from sympy import symbols, diff, integrate, simplify, trigsimp, pprint\n",
    "from sympy.parsing.sympy_parser import parse_expr, standard_transformations, implicit_multiplication_application"
   ]
  },
  {
   "cell_type": "code",
   "execution_count": 2,
   "metadata": {},
   "outputs": [],
   "source": [
    "def main():\n",
    "    print(\"Choose an operation: \")\n",
    "    print(\"1. Derivative\")\n",
    "    print(\"2. Integral\")\n",
    "    \n",
    "    choice = input(\"Enter 1 or 2: \")\n",
    "    \n",
    "    var = input(\"Enter the variable (e.g., 'x'): \")\n",
    "    x = symbols(var)\n",
    "    \n",
    "    expr_str = input(f\"Enter the expression to calculate its {('derivative' if choice == '1' else 'integral')}: \")\n",
    "    \n",
    "    expr_str = expr_str.replace('^', '**')\n",
    "    \n",
    "    transformations = (standard_transformations + (implicit_multiplication_application,))\n",
    "    expr = parse_expr(expr_str, transformations=transformations)\n",
    "    \n",
    "    print(\"\\nOriginal expression (formatted):\")\n",
    "    pprint(expr)\n",
    "    \n",
    "    if choice == '1':\n",
    "        calculate_derivative(expr, x)\n",
    "    elif choice == '2':\n",
    "        lower_bound = input(\"Enter the lower bound (leave blank for indefinite): \")\n",
    "        upper_bound = input(\"Enter the upper bound (leave blank for indefinite): \")\n",
    "        \n",
    "        if lower_bound and upper_bound:  # If bounds are provided, use definite integral\n",
    "            lower_bound = parse_expr(lower_bound)\n",
    "            upper_bound = parse_expr(upper_bound)\n",
    "            calculate_integral(expr, x, lower_bound, upper_bound)\n",
    "        else:\n",
    "            calculate_integral(expr, x)\n",
    "    else:\n",
    "        print(\"Invalid choice. Please restart the program.\")"
   ]
  },
  {
   "cell_type": "code",
   "execution_count": 3,
   "metadata": {},
   "outputs": [],
   "source": [
    "def calculate_derivative(expr, var):\n",
    "    print(\"\\nCalculating derivative...\")\n",
    "    simplified_expr = simplify(expr)\n",
    "    print(\"\\nStep 1: Simplify the expression:\")\n",
    "    pprint(simplified_expr)\n",
    "    derivative = diff(simplified_expr, var)\n",
    "    print(\"\\nStep 2: Take the derivative:\")\n",
    "    pprint(derivative)\n",
    "    \n",
    "    print(\"\\nFinal Result:\")\n",
    "    pprint(derivative)"
   ]
  },
  {
   "cell_type": "code",
   "execution_count": 4,
   "metadata": {},
   "outputs": [],
   "source": [
    "def calculate_integral(expr, var, lower_bound=None, upper_bound=None):\n",
    "    print(\"\\nCalculating integral...\")\n",
    "    \n",
    "    simplified_expr = simplify(expr)\n",
    "    print(\"\\nStep 1: Simplify the expression:\")\n",
    "    pprint(simplified_expr)\n",
    "    \n",
    "    if \"tan\" in str(simplified_expr) and \"sec\" in str(simplified_expr):\n",
    "        print(\"\\nStep 2: Recognize possible substitution pattern (e.g., tan(x) and sec(x)).\")\n",
    "        print(\"Since d(tan(x)) = sec^2(x) dx, we recognize this as a form of u-substitution.\")\n",
    "        print(\"Setting u = tan(x), we find du = sec^2(x) dx.\")\n",
    "    \n",
    "    \n",
    "    if lower_bound is not None and upper_bound is not None:\n",
    "        \n",
    "        integral = integrate(simplified_expr, (var, lower_bound, upper_bound))\n",
    "        print(f\"\\nStep 3: Integrate the expression from {lower_bound} to {upper_bound}:\")\n",
    "    else:\n",
    "        \n",
    "        integral = integrate(simplified_expr, var)\n",
    "        print(\"\\nStep 3: Integrate the expression (indefinite):\")\n",
    "    pprint(integral)\n",
    "    \n",
    "    print(\"\\nStep 4: Simplify the integral result (if possible):\")\n",
    "    simplified_integral = trigsimp(integral)\n",
    "    pprint(simplified_integral)\n",
    "    \n",
    "    print(\"\\nFinal Result:\")\n",
    "    pprint(simplified_integral)"
   ]
  },
  {
   "cell_type": "code",
   "execution_count": 5,
   "metadata": {},
   "outputs": [
    {
     "name": "stdout",
     "output_type": "stream",
     "text": [
      "Choose an operation: \n",
      "1. Derivative\n",
      "2. Integral\n"
     ]
    },
    {
     "ename": "ValueError",
     "evalue": "no symbols given",
     "output_type": "error",
     "traceback": [
      "\u001b[0;31m---------------------------------------------------------------------------\u001b[0m",
      "\u001b[0;31mValueError\u001b[0m                                Traceback (most recent call last)",
      "Cell \u001b[0;32mIn[5], line 1\u001b[0m\n\u001b[0;32m----> 1\u001b[0m \u001b[43mmain\u001b[49m\u001b[43m(\u001b[49m\u001b[43m)\u001b[49m\n",
      "Cell \u001b[0;32mIn[2], line 9\u001b[0m, in \u001b[0;36mmain\u001b[0;34m()\u001b[0m\n\u001b[1;32m      6\u001b[0m choice \u001b[38;5;241m=\u001b[39m \u001b[38;5;28minput\u001b[39m(\u001b[38;5;124m\"\u001b[39m\u001b[38;5;124mEnter 1 or 2: \u001b[39m\u001b[38;5;124m\"\u001b[39m)\n\u001b[1;32m      8\u001b[0m var \u001b[38;5;241m=\u001b[39m \u001b[38;5;28minput\u001b[39m(\u001b[38;5;124m\"\u001b[39m\u001b[38;5;124mEnter the variable (e.g., \u001b[39m\u001b[38;5;124m'\u001b[39m\u001b[38;5;124mx\u001b[39m\u001b[38;5;124m'\u001b[39m\u001b[38;5;124m): \u001b[39m\u001b[38;5;124m\"\u001b[39m)\n\u001b[0;32m----> 9\u001b[0m x \u001b[38;5;241m=\u001b[39m \u001b[43msymbols\u001b[49m\u001b[43m(\u001b[49m\u001b[43mvar\u001b[49m\u001b[43m)\u001b[49m\n\u001b[1;32m     11\u001b[0m expr_str \u001b[38;5;241m=\u001b[39m \u001b[38;5;28minput\u001b[39m(\u001b[38;5;124mf\u001b[39m\u001b[38;5;124m\"\u001b[39m\u001b[38;5;124mEnter the expression to calculate its \u001b[39m\u001b[38;5;132;01m{\u001b[39;00m(\u001b[38;5;124m'\u001b[39m\u001b[38;5;124mderivative\u001b[39m\u001b[38;5;124m'\u001b[39m\u001b[38;5;250m \u001b[39m\u001b[38;5;28;01mif\u001b[39;00m\u001b[38;5;250m \u001b[39mchoice\u001b[38;5;250m \u001b[39m\u001b[38;5;241m==\u001b[39m\u001b[38;5;250m \u001b[39m\u001b[38;5;124m'\u001b[39m\u001b[38;5;124m1\u001b[39m\u001b[38;5;124m'\u001b[39m\u001b[38;5;250m \u001b[39m\u001b[38;5;28;01melse\u001b[39;00m\u001b[38;5;250m \u001b[39m\u001b[38;5;124m'\u001b[39m\u001b[38;5;124mintegral\u001b[39m\u001b[38;5;124m'\u001b[39m)\u001b[38;5;132;01m}\u001b[39;00m\u001b[38;5;124m: \u001b[39m\u001b[38;5;124m\"\u001b[39m)\n\u001b[1;32m     13\u001b[0m expr_str \u001b[38;5;241m=\u001b[39m expr_str\u001b[38;5;241m.\u001b[39mreplace(\u001b[38;5;124m'\u001b[39m\u001b[38;5;124m^\u001b[39m\u001b[38;5;124m'\u001b[39m, \u001b[38;5;124m'\u001b[39m\u001b[38;5;124m**\u001b[39m\u001b[38;5;124m'\u001b[39m)\n",
      "File \u001b[0;32m/Library/Frameworks/Python.framework/Versions/3.11/lib/python3.11/site-packages/sympy/core/symbol.py:747\u001b[0m, in \u001b[0;36msymbols\u001b[0;34m(names, cls, **args)\u001b[0m\n\u001b[1;32m    745\u001b[0m     names \u001b[38;5;241m=\u001b[39m names[:\u001b[38;5;241m-\u001b[39m\u001b[38;5;241m1\u001b[39m]\u001b[38;5;241m.\u001b[39mrstrip()\n\u001b[1;32m    746\u001b[0m \u001b[38;5;28;01mif\u001b[39;00m \u001b[38;5;129;01mnot\u001b[39;00m names:\n\u001b[0;32m--> 747\u001b[0m     \u001b[38;5;28;01mraise\u001b[39;00m \u001b[38;5;167;01mValueError\u001b[39;00m(\u001b[38;5;124m'\u001b[39m\u001b[38;5;124mno symbols given\u001b[39m\u001b[38;5;124m'\u001b[39m)\n\u001b[1;32m    749\u001b[0m \u001b[38;5;66;03m# split on commas\u001b[39;00m\n\u001b[1;32m    750\u001b[0m names \u001b[38;5;241m=\u001b[39m [n\u001b[38;5;241m.\u001b[39mstrip() \u001b[38;5;28;01mfor\u001b[39;00m n \u001b[38;5;129;01min\u001b[39;00m names\u001b[38;5;241m.\u001b[39msplit(\u001b[38;5;124m'\u001b[39m\u001b[38;5;124m,\u001b[39m\u001b[38;5;124m'\u001b[39m)]\n",
      "\u001b[0;31mValueError\u001b[0m: no symbols given"
     ]
    }
   ],
   "source": [
    "main()"
   ]
  }
 ],
 "metadata": {
  "kernelspec": {
   "display_name": "Python 3",
   "language": "python",
   "name": "python3"
  },
  "language_info": {
   "codemirror_mode": {
    "name": "ipython",
    "version": 3
   },
   "file_extension": ".py",
   "mimetype": "text/x-python",
   "name": "python",
   "nbconvert_exporter": "python",
   "pygments_lexer": "ipython3",
   "version": "3.11.4"
  }
 },
 "nbformat": 4,
 "nbformat_minor": 2
}
